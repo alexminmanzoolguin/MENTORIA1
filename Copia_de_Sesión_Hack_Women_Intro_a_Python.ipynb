{
  "nbformat": 4,
  "nbformat_minor": 0,
  "metadata": {
    "colab": {
      "name": "Copia de Sesión Hack Women- Intro a Python",
      "provenance": [],
      "collapsed_sections": [],
      "toc_visible": true,
      "include_colab_link": true
    },
    "kernelspec": {
      "name": "python3",
      "display_name": "Python 3"
    }
  },
  "cells": [
    {
      "cell_type": "markdown",
      "metadata": {
        "id": "view-in-github",
        "colab_type": "text"
      },
      "source": [
        "<a href=\"https://colab.research.google.com/github/alexminmanzoolguin/MENTORIA1/blob/main/Copia_de_Sesi%C3%B3n_Hack_Women_Intro_a_Python.ipynb\" target=\"_parent\"><img src=\"https://colab.research.google.com/assets/colab-badge.svg\" alt=\"Open In Colab\"/></a>"
      ]
    },
    {
      "cell_type": "markdown",
      "metadata": {
        "id": "OpSHrtcJLQEU"
      },
      "source": [
        "# Introducción a Python\n",
        "\n",
        "A lo largo de este cuaderno explicaremos algunos conceptos básicos de Python. Los temas específicos que cubriremos en estos cuadernos introductorios son los siguientes:\n",
        "\n",
        "1. ¿Qué es Python?\n",
        "2. Objetos avanzados: _Listas_ y _diccionarios_\n",
        "3. Empaquetando código - _Funciones_\n",
        "\n",
        "### Planteamiento del problema:\n",
        "\n",
        "Imagina que queremos crear un directorio que contenga toda la información de los estudiantes de nuestro club. Para ello, necesitaremos construir paso a paso la idea completa del proyecto.\n",
        "\n",
        "Para ello, necesitamos saber sobre tipos de variables, objetos avanzados como listas y diccionarios, cómo crear funciones para operar algunos valores y cómo crear nuevos objetos.\n",
        "\n",
        "\n",
        "## ¿Qué es Python?\n",
        "\n",
        "<center>\n",
        "    <img width=\"50%\" src=\"https://www.python.org/static/community_logos/python-logo-generic.svg\">\n",
        "</center>\n",
        "\n",
        "Python es un lenguaje de programación **interpretado**, lo que significa que un _interpretador_ ejecuta y ejecuta su código línea por línea en lugar de compilarlo. Python tiene una sintaxis elegante que te obliga a **aplicar sangría a tu código para construir bloques de código**, por lo que Python no usa `{}` para bloques de código. No es común usar punto y coma en Python (`;`) al final de cualquier oración. Otra cosa interesante de Python es que no necesita declarar variables, solo las define, y sucede que Python **se escribe dinámicamente**.\n",
        "\n",
        "### Hola mundo en Python\n",
        "\n",
        "Usaremos las funciones de entrada y salida de Python para crear nuestro primer hola mundo.\n",
        "\n",
        "Solo necesita ejecutar la siguiente celda con código presionando el botón _play_ o presionando `Shift + Enter` en su teclado."
      ]
    },
    {
      "cell_type": "markdown",
      "metadata": {
        "id": "RSJW87sPXOAh"
      },
      "source": [
        "## Variables\n",
        "\n",
        "Python tiene varios tipos de variables de forma nativa. Comenzando con variables numéricas, Python puede trabajar con números enteros, números flotantes y números complejos. También cuenta con cadenas de caracteres para trabajar con texto y otro tipo de variables llamadas booleanos para guardar valores binarios.\n",
        "\n",
        "La forma en que declaramos las variables es la siguiente:\n",
        "\n",
        "```python\n",
        "variable_name = <value>\n",
        "```\n",
        "\n",
        "El nombre de una variable no puede tener espacios, debe comenzar con una letra, puede contener letras mayúsculas o números dentro del nombre.\n",
        "\n",
        "#### Ejemplo:\n",
        "\n",
        "```python\n",
        "my_dog = \"Mirlo\"\n",
        "```\n",
        "\n",
        "Para obtener el tipo de una variable, podemos usar la función `type ()` y pasar como parámetro la variable que queremos conocer.\n",
        "\n",
        "#### Ejemplo:\n",
        "\n",
        "```python\n",
        "type(my_dog)\n",
        "```"
      ]
    },
    {
      "cell_type": "markdown",
      "metadata": {
        "id": "nlMAcIGEYIef"
      },
      "source": [
        "Hay varios tipos de variables, ¡incluso números complejos en Python!\n",
        "\n",
        "#### Ejercicio:\n",
        "\n",
        "Define e imprime el tipo y valor de las variables denominadas:\n",
        "- `name`, debe ser un` <str> `que contenga cualquier nombre\n",
        "- `age`, debe ser un` <int> `que contenga cualquier edad\n",
        "- `pi`, debe ser un` <float> `que contenga su mejor aproximación a pi\n",
        "- `modulus_one`, debe ser un `<complex>`que tiene [módulo](https://en.wikipedia.org/wiki/Absolute_value#Complex_numbers) uno"
      ]
    },
    {
      "cell_type": "markdown",
      "metadata": {
        "id": "U_cKNLU3YnP8"
      },
      "source": [
        "## Control de flujo (condicionales)\n",
        "\n",
        "Hasta ahora, sabemos cómo definir variables, por lo que podemos crear bloques de código un poco más avanzados. Lo primero que queremos hacer es crear una nueva variable llamada `under_age` y necesitaremos definirla usando una declaración contitional. Para ello, será útil recordar los operadores de comparación (`<, >, <=, >=, ==, !=`).\n",
        "\n",
        "La idea es la siguiente, si la persona es menor de edad, el valor de esta variable será \"Verdadero\" y será \"Falso\" en el otro caso.\n",
        "\n",
        "Para declarar una declaración condicional, se usa la siguiente sintaxis:\n",
        "\n",
        "```python\n",
        "if condition:\n",
        "    # Block of code for a satisfied condition \n",
        "else:\n",
        "    # Block of code for a non-satisfied condition \n",
        "```\n",
        "\n",
        "#### Ejemplo:\n"
      ]
    },
    {
      "cell_type": "code",
      "metadata": {
        "id": "9oJook66anxJ"
      },
      "source": [
        "dog_color = \"black\"\n",
        "if color == \"black\":\n",
        "    print(\"Indeed, this dog is black.\")\n",
        "else:\n",
        "    print(\"Nope, it is not a black dog.\")"
      ],
      "execution_count": null,
      "outputs": []
    },
    {
      "cell_type": "markdown",
      "metadata": {
        "id": "hkoa6UOarhBD"
      },
      "source": [
        "## Bucles (ciclos)\n",
        "\n",
        "**Iteración** significa ejecutar el mismo bloque de código una y otra vez, potencialmente muchas veces. Una estructura de programación que implementa la iteración se llama **bucle** (o **ciclo**).\n",
        "\n",
        "Hay dos tipos de iteración:\n",
        "- **Iteración definida**, en la que el número de repeticiones se especifica explícitamente de antemano\n",
        "- **Iteración indefinida**, en la que el bloque de código se ejecuta hasta que se cumple alguna condición\n",
        "\n",
        "En Python, la iteración indefinida se realiza con un ciclo `while` y la iteración definida se realiza con un ciclo `for`.\n",
        "\n",
        "### Ciclo `while`\n",
        "\n",
        "Para un ciclo `while` será importante **establecer una condición de parada**. El formato de un ciclo `while` se muestra a continuación:\n",
        "\n",
        "```python\n",
        "while condition:\n",
        "    # Code goes ehre!\n",
        "```\n",
        "\n",
        "#### Ejemplo:\n"
      ]
    },
    {
      "cell_type": "code",
      "metadata": {
        "id": "SSnssdYwqI_G"
      },
      "source": [
        "n_iteration = 1\n",
        "\n",
        "while n_iteration <= 10:\n",
        "    print(f\"Iteration {n_iteration}.\")"
      ],
      "execution_count": null,
      "outputs": []
    },
    {
      "cell_type": "markdown",
      "metadata": {
        "id": "xJFl2lQ1qJak"
      },
      "source": [
        "### Ciclo `for`\n",
        "\n",
        "Python tiene un **ciclo basado en colecciones** o **ciclo basado en iteradores**. Este tipo de bucle itera sobre una colección de objetos, en lugar de especificar valores numéricos o condiciones:\n",
        "\n",
        "```python\n",
        "for i in <collection>:\n",
        "    <loop body>\n",
        "```\n",
        "\n",
        "#### Ejemplo:\n",
        "\n",
        "Podemos iterar a través de los elementos de una lista:\n"
      ]
    },
    {
      "cell_type": "code",
      "metadata": {
        "id": "RFk0YLulqOQW"
      },
      "source": [
        "months = [\n",
        "    'January',\n",
        "    'February',\n",
        "    'March',\n",
        "    'April',\n",
        "    'May',\n",
        "    'June',\n",
        "    'July',\n",
        "    'August',\n",
        "    'September',\n",
        "    'October',\n",
        "    'November',\n",
        "    'December',\n",
        "]\n",
        "\n",
        "for month in months:\n",
        "    print(f\"The current month is {month}.\")"
      ],
      "execution_count": null,
      "outputs": []
    },
    {
      "cell_type": "markdown",
      "metadata": {
        "id": "OHMgj3aavIqc"
      },
      "source": [
        "O iterar solo a través de un rango de números:"
      ]
    },
    {
      "cell_type": "code",
      "metadata": {
        "id": "nevHbKcsvIBa"
      },
      "source": [
        "for number in range(10):\n",
        "    print(f\"The current number is {number}.\")"
      ],
      "execution_count": null,
      "outputs": []
    },
    {
      "cell_type": "markdown",
      "metadata": {
        "id": "7Ko9pJ0_vrnb"
      },
      "source": [
        "**Nota:** *¿Todo esto aplica para las tuplas?*\n"
      ]
    },
    {
      "cell_type": "markdown",
      "metadata": {
        "id": "DZOOUM4jrn5O"
      },
      "source": [
        "## Diccionarios\n",
        "\n",
        "Python proporciona otro tipo de datos compuestos llamado **diccionario**, que es similar a una lista en que es una colección de objetos.\n",
        "\n",
        "Los diccionarios son diferentes de las listas principalmente por cómo acceder a sus elementos:\n",
        "\n",
        "- Se accede a los elementos de la lista por su posición en la lista, mediante indexación.\n",
        "- Se accede a los elementos del diccionario mediante llaves o claves (pares clave-valor)."
      ]
    },
    {
      "cell_type": "code",
      "metadata": {
        "id": "FNo_LTSuzEvk"
      },
      "source": [
        "student = {\n",
        "    \"name\": \"Jesús López\",\n",
        "    \"email\": \"algo@gmail.com\"\n",
        "}"
      ],
      "execution_count": 4,
      "outputs": []
    },
    {
      "cell_type": "code",
      "source": [
        "student['email']"
      ],
      "metadata": {
        "colab": {
          "base_uri": "https://localhost:8080/",
          "height": 35
        },
        "id": "3wopDoWnl1q0",
        "outputId": "7c5611f1-9c92-412f-97ab-58e8c5feecc8"
      },
      "execution_count": 5,
      "outputs": [
        {
          "output_type": "execute_result",
          "data": {
            "application/vnd.google.colaboratory.intrinsic+json": {
              "type": "string"
            },
            "text/plain": [
              "'algo@gmail.com'"
            ]
          },
          "metadata": {},
          "execution_count": 5
        }
      ]
    },
    {
      "cell_type": "code",
      "source": [
        "student['email']"
      ],
      "metadata": {
        "colab": {
          "base_uri": "https://localhost:8080/",
          "height": 35
        },
        "id": "SQor4A8H8ho1",
        "outputId": "d7af6f2a-77eb-4384-dd46-99eb3785779e"
      },
      "execution_count": null,
      "outputs": [
        {
          "output_type": "execute_result",
          "data": {
            "application/vnd.google.colaboratory.intrinsic+json": {
              "type": "string"
            },
            "text/plain": [
              "'algo@gmail.com'"
            ]
          },
          "metadata": {},
          "execution_count": 2
        }
      ]
    },
    {
      "cell_type": "code",
      "source": [
        "student['age'] = 23"
      ],
      "metadata": {
        "id": "C01j0G3w9643"
      },
      "execution_count": 6,
      "outputs": []
    },
    {
      "cell_type": "code",
      "source": [
        "print(student)"
      ],
      "metadata": {
        "colab": {
          "base_uri": "https://localhost:8080/"
        },
        "id": "oaCQLeA5-ImZ",
        "outputId": "79fee8bf-e589-4f3b-c29a-6865372b9936"
      },
      "execution_count": 7,
      "outputs": [
        {
          "output_type": "stream",
          "name": "stdout",
          "text": [
            "{'name': 'Jesús López', 'email': 'algo@gmail.com', 'age': 23}\n"
          ]
        }
      ]
    },
    {
      "cell_type": "code",
      "source": [
        "student.keys()"
      ],
      "metadata": {
        "colab": {
          "base_uri": "https://localhost:8080/"
        },
        "id": "lwl4US9g-ZVK",
        "outputId": "e8b7f6ea-41ea-4951-f1cf-783a11f3a407"
      },
      "execution_count": 8,
      "outputs": [
        {
          "output_type": "execute_result",
          "data": {
            "text/plain": [
              "dict_keys(['name', 'email', 'age'])"
            ]
          },
          "metadata": {},
          "execution_count": 8
        }
      ]
    },
    {
      "cell_type": "code",
      "source": [
        "for key in student.keys():\n",
        "  print(student[key])"
      ],
      "metadata": {
        "colab": {
          "base_uri": "https://localhost:8080/"
        },
        "id": "IjCRFSz3-ZXd",
        "outputId": "9098c127-acac-42df-b72a-ffa622afba6b"
      },
      "execution_count": 9,
      "outputs": [
        {
          "output_type": "stream",
          "name": "stdout",
          "text": [
            "Jesús López\n",
            "algo@gmail.com\n",
            "23\n"
          ]
        }
      ]
    },
    {
      "cell_type": "code",
      "source": [
        "student.values()"
      ],
      "metadata": {
        "colab": {
          "base_uri": "https://localhost:8080/"
        },
        "id": "0hBZtDxk-ZfD",
        "outputId": "1ca346ab-d61e-48d1-8722-228e8e7dfccc"
      },
      "execution_count": 10,
      "outputs": [
        {
          "output_type": "execute_result",
          "data": {
            "text/plain": [
              "dict_values(['Jesús López', 'algo@gmail.com', 23])"
            ]
          },
          "metadata": {},
          "execution_count": 10
        }
      ]
    },
    {
      "cell_type": "code",
      "source": [
        "student.items()"
      ],
      "metadata": {
        "colab": {
          "base_uri": "https://localhost:8080/"
        },
        "id": "5j-UdlC7-Zio",
        "outputId": "82256eb6-debc-4223-c24a-5997a2a0abb4"
      },
      "execution_count": 11,
      "outputs": [
        {
          "output_type": "execute_result",
          "data": {
            "text/plain": [
              "dict_items([('name', 'Jesús López'), ('email', 'algo@gmail.com'), ('age', 23)])"
            ]
          },
          "metadata": {},
          "execution_count": 11
        }
      ]
    },
    {
      "cell_type": "code",
      "source": [
        "for key, value in student.items():\n",
        "  print(key, value)"
      ],
      "metadata": {
        "colab": {
          "base_uri": "https://localhost:8080/"
        },
        "id": "NWH_ZkYi_cvf",
        "outputId": "368cbf36-e714-4bb0-8983-d79d9a1dcfbb"
      },
      "execution_count": 13,
      "outputs": [
        {
          "output_type": "stream",
          "name": "stdout",
          "text": [
            "name Jesús López\n",
            "email algo@gmail.com\n",
            "age 23\n"
          ]
        }
      ]
    },
    {
      "cell_type": "markdown",
      "source": [
        "#Hack Women"
      ],
      "metadata": {
        "id": "zXlB7OlK8jXO"
      }
    },
    {
      "cell_type": "markdown",
      "metadata": {
        "id": "i6I0b2UkzcJb"
      },
      "source": [
        "## Funciones\n",
        "\n",
        "Las funciones nos permitirán empaquetar código que puede ser invocado a través de una línea con el nombre de la función.\n",
        "\n",
        "La estructura básica de una función es como sigue:\n",
        "\n",
        "```python\n",
        "def name_of_function(arguments):\n",
        "    # Code of the function\n",
        "\n",
        "    return something\n",
        "```\n",
        "\n",
        "La nomenclatura de las funciones es consistente con la de las variables."
      ]
    },
    {
      "cell_type": "code",
      "metadata": {
        "id": "PZTz7Shhrs1M"
      },
      "source": [
        "# Implement the 2nd of the Newton's laws of motion\n",
        "\n",
        "def F(m, a):\n",
        "  fuerza = m * a\n",
        "  return fuerza "
      ],
      "execution_count": 16,
      "outputs": []
    },
    {
      "cell_type": "code",
      "source": [
        "print(f\"{F(60, 3)} N (Newton)\")"
      ],
      "metadata": {
        "colab": {
          "base_uri": "https://localhost:8080/"
        },
        "id": "Njt9bumMAjce",
        "outputId": "486fdd18-c3bf-479c-bb8d-11d3ff00a64f"
      },
      "execution_count": 17,
      "outputs": [
        {
          "output_type": "stream",
          "name": "stdout",
          "text": [
            "180 N (Newton)\n"
          ]
        }
      ]
    },
    {
      "cell_type": "code",
      "source": [
        "print(f\"{F(70, 9.81)} N (Newton)\")"
      ],
      "metadata": {
        "colab": {
          "base_uri": "https://localhost:8080/"
        },
        "id": "48LQEugvBE7j",
        "outputId": "29ad89f0-c469-4d55-e3f8-d9b1807b8b46"
      },
      "execution_count": 18,
      "outputs": [
        {
          "output_type": "stream",
          "name": "stdout",
          "text": [
            "686.7 N (Newton)\n"
          ]
        }
      ]
    },
    {
      "cell_type": "markdown",
      "source": [
        "#Ejemplo 1\n",
        "-  Procedimiento CalcularMaxMin: recibe una lista de enteros  y devuelve\n",
        "el máximo y el mínimo de los números guardados en el vector.\n",
        "Parámetros de entrada: lista de enteros\n",
        "Valores de salida: valor máximo y mínimo"
      ],
      "metadata": {
        "id": "w6i3aF0EzsbT"
      }
    },
    {
      "cell_type": "code",
      "source": [
        "# Ejemplo 1\n",
        "\n",
        "import random\n",
        "\n",
        "def CalcularMaxMin(lista):\n",
        "\treturn (max(lista), min(lista))\n",
        " \n",
        "numeros = []\n",
        "\n",
        "for i in range(10):\n",
        "\tnumeros.append(random.randint(1,51))\n",
        "vmax, vmin = CalcularMaxMin(numeros)\n",
        "print(\"El valor máximo es: \", vmax)\n",
        "print(\"El valor minimo es: \", vmin)"
      ],
      "metadata": {
        "colab": {
          "base_uri": "https://localhost:8080/"
        },
        "id": "erZUUm7pw7qc",
        "outputId": "8f045871-668d-4d3a-c29f-dcc76a306fea"
      },
      "execution_count": 14,
      "outputs": [
        {
          "output_type": "stream",
          "name": "stdout",
          "text": [
            "El valor máximo es:  51\n",
            "El valor minimo es:  1\n"
          ]
        }
      ]
    },
    {
      "cell_type": "markdown",
      "source": [
        "#Ejemplo 2\n",
        "\n",
        "- Función CalcularAreaPerimetro: recibe el radio de una circunferencia y\n",
        "devuelve el área y el perímetro.\n",
        "Parámetros de entrada: radio (real)\n",
        "Valores de salida: área y perímetro (real)"
      ],
      "metadata": {
        "id": "xKZM-l4F0AEr"
      }
    },
    {
      "cell_type": "code",
      "source": [
        "# Ejemplo 2\n",
        "\n",
        "import math \n",
        "\n",
        "def CalcularAreaPerimetro(radio):\n",
        "\n",
        "\tarea = math.pi * radio ** 2\n",
        "\tperimetro = 2 * math.pi * radio\n",
        "\treturn area, perimetro\n",
        "\n",
        "radio = float(input(\"Introduce el radio: \"))\n",
        "area, perimetro = CalcularAreaPerimetro(radio)\n",
        "print(\"Area: \",area)\n",
        "print(\"Perímetro: \", perimetro)\n",
        "\n"
      ],
      "metadata": {
        "colab": {
          "base_uri": "https://localhost:8080/",
          "height": 536
        },
        "id": "jnCZxGp0wecv",
        "outputId": "950307f4-68e6-4efa-b4fb-3121c5af11c4"
      },
      "execution_count": 15,
      "outputs": [
        {
          "output_type": "error",
          "ename": "KeyboardInterrupt",
          "evalue": "ignored",
          "traceback": [
            "\u001b[0;31m---------------------------------------------------------------------------\u001b[0m",
            "\u001b[0;31mKeyboardInterrupt\u001b[0m                         Traceback (most recent call last)",
            "\u001b[0;32m/usr/local/lib/python3.7/dist-packages/ipykernel/kernelbase.py\u001b[0m in \u001b[0;36m_input_request\u001b[0;34m(self, prompt, ident, parent, password)\u001b[0m\n\u001b[1;32m    728\u001b[0m             \u001b[0;32mtry\u001b[0m\u001b[0;34m:\u001b[0m\u001b[0;34m\u001b[0m\u001b[0;34m\u001b[0m\u001b[0m\n\u001b[0;32m--> 729\u001b[0;31m                 \u001b[0mident\u001b[0m\u001b[0;34m,\u001b[0m \u001b[0mreply\u001b[0m \u001b[0;34m=\u001b[0m \u001b[0mself\u001b[0m\u001b[0;34m.\u001b[0m\u001b[0msession\u001b[0m\u001b[0;34m.\u001b[0m\u001b[0mrecv\u001b[0m\u001b[0;34m(\u001b[0m\u001b[0mself\u001b[0m\u001b[0;34m.\u001b[0m\u001b[0mstdin_socket\u001b[0m\u001b[0;34m,\u001b[0m \u001b[0;36m0\u001b[0m\u001b[0;34m)\u001b[0m\u001b[0;34m\u001b[0m\u001b[0;34m\u001b[0m\u001b[0m\n\u001b[0m\u001b[1;32m    730\u001b[0m             \u001b[0;32mexcept\u001b[0m \u001b[0mException\u001b[0m\u001b[0;34m:\u001b[0m\u001b[0;34m\u001b[0m\u001b[0;34m\u001b[0m\u001b[0m\n",
            "\u001b[0;32m/usr/local/lib/python3.7/dist-packages/jupyter_client/session.py\u001b[0m in \u001b[0;36mrecv\u001b[0;34m(self, socket, mode, content, copy)\u001b[0m\n\u001b[1;32m    802\u001b[0m         \u001b[0;32mtry\u001b[0m\u001b[0;34m:\u001b[0m\u001b[0;34m\u001b[0m\u001b[0;34m\u001b[0m\u001b[0m\n\u001b[0;32m--> 803\u001b[0;31m             \u001b[0mmsg_list\u001b[0m \u001b[0;34m=\u001b[0m \u001b[0msocket\u001b[0m\u001b[0;34m.\u001b[0m\u001b[0mrecv_multipart\u001b[0m\u001b[0;34m(\u001b[0m\u001b[0mmode\u001b[0m\u001b[0;34m,\u001b[0m \u001b[0mcopy\u001b[0m\u001b[0;34m=\u001b[0m\u001b[0mcopy\u001b[0m\u001b[0;34m)\u001b[0m\u001b[0;34m\u001b[0m\u001b[0;34m\u001b[0m\u001b[0m\n\u001b[0m\u001b[1;32m    804\u001b[0m         \u001b[0;32mexcept\u001b[0m \u001b[0mzmq\u001b[0m\u001b[0;34m.\u001b[0m\u001b[0mZMQError\u001b[0m \u001b[0;32mas\u001b[0m \u001b[0me\u001b[0m\u001b[0;34m:\u001b[0m\u001b[0;34m\u001b[0m\u001b[0;34m\u001b[0m\u001b[0m\n",
            "\u001b[0;32m/usr/local/lib/python3.7/dist-packages/zmq/sugar/socket.py\u001b[0m in \u001b[0;36mrecv_multipart\u001b[0;34m(self, flags, copy, track)\u001b[0m\n\u001b[1;32m    624\u001b[0m         \"\"\"\n\u001b[0;32m--> 625\u001b[0;31m         \u001b[0mparts\u001b[0m \u001b[0;34m=\u001b[0m \u001b[0;34m[\u001b[0m\u001b[0mself\u001b[0m\u001b[0;34m.\u001b[0m\u001b[0mrecv\u001b[0m\u001b[0;34m(\u001b[0m\u001b[0mflags\u001b[0m\u001b[0;34m,\u001b[0m \u001b[0mcopy\u001b[0m\u001b[0;34m=\u001b[0m\u001b[0mcopy\u001b[0m\u001b[0;34m,\u001b[0m \u001b[0mtrack\u001b[0m\u001b[0;34m=\u001b[0m\u001b[0mtrack\u001b[0m\u001b[0;34m)\u001b[0m\u001b[0;34m]\u001b[0m\u001b[0;34m\u001b[0m\u001b[0;34m\u001b[0m\u001b[0m\n\u001b[0m\u001b[1;32m    626\u001b[0m         \u001b[0;31m# have first part already, only loop while more to receive\u001b[0m\u001b[0;34m\u001b[0m\u001b[0;34m\u001b[0m\u001b[0;34m\u001b[0m\u001b[0m\n",
            "\u001b[0;32mzmq/backend/cython/socket.pyx\u001b[0m in \u001b[0;36mzmq.backend.cython.socket.Socket.recv\u001b[0;34m()\u001b[0m\n",
            "\u001b[0;32mzmq/backend/cython/socket.pyx\u001b[0m in \u001b[0;36mzmq.backend.cython.socket.Socket.recv\u001b[0;34m()\u001b[0m\n",
            "\u001b[0;32mzmq/backend/cython/socket.pyx\u001b[0m in \u001b[0;36mzmq.backend.cython.socket._recv_copy\u001b[0;34m()\u001b[0m\n",
            "\u001b[0;32m/usr/local/lib/python3.7/dist-packages/zmq/backend/cython/checkrc.pxd\u001b[0m in \u001b[0;36mzmq.backend.cython.checkrc._check_rc\u001b[0;34m()\u001b[0m\n",
            "\u001b[0;31mKeyboardInterrupt\u001b[0m: ",
            "\nDuring handling of the above exception, another exception occurred:\n",
            "\u001b[0;31mKeyboardInterrupt\u001b[0m                         Traceback (most recent call last)",
            "\u001b[0;32m<ipython-input-15-0bccea3e88f4>\u001b[0m in \u001b[0;36m<module>\u001b[0;34m()\u001b[0m\n\u001b[1;32m      9\u001b[0m         \u001b[0;32mreturn\u001b[0m \u001b[0marea\u001b[0m\u001b[0;34m,\u001b[0m \u001b[0mperimetro\u001b[0m\u001b[0;34m\u001b[0m\u001b[0;34m\u001b[0m\u001b[0m\n\u001b[1;32m     10\u001b[0m \u001b[0;34m\u001b[0m\u001b[0m\n\u001b[0;32m---> 11\u001b[0;31m \u001b[0mradio\u001b[0m \u001b[0;34m=\u001b[0m \u001b[0mfloat\u001b[0m\u001b[0;34m(\u001b[0m\u001b[0minput\u001b[0m\u001b[0;34m(\u001b[0m\u001b[0;34m\"Introduce el radio: \"\u001b[0m\u001b[0;34m)\u001b[0m\u001b[0;34m)\u001b[0m\u001b[0;34m\u001b[0m\u001b[0;34m\u001b[0m\u001b[0m\n\u001b[0m\u001b[1;32m     12\u001b[0m \u001b[0marea\u001b[0m\u001b[0;34m,\u001b[0m \u001b[0mperimetro\u001b[0m \u001b[0;34m=\u001b[0m \u001b[0mCalcularAreaPerimetro\u001b[0m\u001b[0;34m(\u001b[0m\u001b[0mradio\u001b[0m\u001b[0;34m)\u001b[0m\u001b[0;34m\u001b[0m\u001b[0;34m\u001b[0m\u001b[0m\n\u001b[1;32m     13\u001b[0m \u001b[0mprint\u001b[0m\u001b[0;34m(\u001b[0m\u001b[0;34m\"Area: \"\u001b[0m\u001b[0;34m,\u001b[0m\u001b[0marea\u001b[0m\u001b[0;34m)\u001b[0m\u001b[0;34m\u001b[0m\u001b[0;34m\u001b[0m\u001b[0m\n",
            "\u001b[0;32m/usr/local/lib/python3.7/dist-packages/ipykernel/kernelbase.py\u001b[0m in \u001b[0;36mraw_input\u001b[0;34m(self, prompt)\u001b[0m\n\u001b[1;32m    702\u001b[0m             \u001b[0mself\u001b[0m\u001b[0;34m.\u001b[0m\u001b[0m_parent_ident\u001b[0m\u001b[0;34m,\u001b[0m\u001b[0;34m\u001b[0m\u001b[0;34m\u001b[0m\u001b[0m\n\u001b[1;32m    703\u001b[0m             \u001b[0mself\u001b[0m\u001b[0;34m.\u001b[0m\u001b[0m_parent_header\u001b[0m\u001b[0;34m,\u001b[0m\u001b[0;34m\u001b[0m\u001b[0;34m\u001b[0m\u001b[0m\n\u001b[0;32m--> 704\u001b[0;31m             \u001b[0mpassword\u001b[0m\u001b[0;34m=\u001b[0m\u001b[0;32mFalse\u001b[0m\u001b[0;34m,\u001b[0m\u001b[0;34m\u001b[0m\u001b[0;34m\u001b[0m\u001b[0m\n\u001b[0m\u001b[1;32m    705\u001b[0m         )\n\u001b[1;32m    706\u001b[0m \u001b[0;34m\u001b[0m\u001b[0m\n",
            "\u001b[0;32m/usr/local/lib/python3.7/dist-packages/ipykernel/kernelbase.py\u001b[0m in \u001b[0;36m_input_request\u001b[0;34m(self, prompt, ident, parent, password)\u001b[0m\n\u001b[1;32m    732\u001b[0m             \u001b[0;32mexcept\u001b[0m \u001b[0mKeyboardInterrupt\u001b[0m\u001b[0;34m:\u001b[0m\u001b[0;34m\u001b[0m\u001b[0;34m\u001b[0m\u001b[0m\n\u001b[1;32m    733\u001b[0m                 \u001b[0;31m# re-raise KeyboardInterrupt, to truncate traceback\u001b[0m\u001b[0;34m\u001b[0m\u001b[0;34m\u001b[0m\u001b[0;34m\u001b[0m\u001b[0m\n\u001b[0;32m--> 734\u001b[0;31m                 \u001b[0;32mraise\u001b[0m \u001b[0mKeyboardInterrupt\u001b[0m\u001b[0;34m\u001b[0m\u001b[0;34m\u001b[0m\u001b[0m\n\u001b[0m\u001b[1;32m    735\u001b[0m             \u001b[0;32melse\u001b[0m\u001b[0;34m:\u001b[0m\u001b[0;34m\u001b[0m\u001b[0;34m\u001b[0m\u001b[0m\n\u001b[1;32m    736\u001b[0m                 \u001b[0;32mbreak\u001b[0m\u001b[0;34m\u001b[0m\u001b[0;34m\u001b[0m\u001b[0m\n",
            "\u001b[0;31mKeyboardInterrupt\u001b[0m: "
          ]
        }
      ]
    },
    {
      "cell_type": "markdown",
      "source": [
        "# Ejemplo 3\n",
        "\n",
        "- Función centrar: Recibe una cadena y la imprime centrada en la pantalla."
      ],
      "metadata": {
        "id": "u0XxKuyQ0Qeg"
      }
    },
    {
      "cell_type": "code",
      "source": [
        "#Ejemplo 3\n",
        "\n",
        "def centrar(cad):\n",
        "\n",
        "\tprint(\" \" * int(40 - (len(cad)/2)), cad)\n",
        "\tprint(\" \" * int(40 - (len(cad)/2)), \"=\" * len(cad))\n",
        "\n",
        "\n",
        "mensaje1 = \"HackWomen\"\n",
        "centrar(mensaje1)\n",
        "mensaje2 = \"SKILLS FOR WOMEN IN TECH\"\n",
        "centrar(mensaje2)"
      ],
      "metadata": {
        "colab": {
          "base_uri": "https://localhost:8080/"
        },
        "id": "iDD9RDGNtrGk",
        "outputId": "322ba9c4-94f0-45e2-b770-bc4a57db8f3a"
      },
      "execution_count": null,
      "outputs": [
        {
          "output_type": "stream",
          "name": "stdout",
          "text": [
            "                                    HackWomen\n",
            "                                    =========\n",
            "                             SKILLS FOR WOMEN IN TECH\n",
            "                             ========================\n"
          ]
        }
      ]
    },
    {
      "cell_type": "markdown",
      "source": [
        "# Ejemplo 4\n",
        "\n",
        "- Función Convertir a  segundos: Recibe una cantidad de horas, minutos y segundos y calcula a cuantos segundos corresponde."
      ],
      "metadata": {
        "id": "qqg4K8rc0gjL"
      }
    },
    {
      "cell_type": "code",
      "source": [
        "from sys import exc_info\n",
        "# Ejemplo 4\n",
        "\n",
        "def Convertir_A_Segundos(h, m, s):\n",
        "  return h * 3600 + m * 60 + s\n",
        "\n",
        "def Covertir_A_HMS(seg):\n",
        "   h = seg//3600\n",
        "   seg = seg - h*3600\n",
        "   m = seg//60\n",
        "   seg = seg - m*60\n",
        "   s = seg\n",
        "   return h,m,s\n",
        "\n",
        "while True:\n",
        "  print(\"1. Convertir a segundos\")\n",
        "  print(\"2. Convertir a horas, minutos y segundos\")\n",
        "  print(\"3. Salir\")\n",
        "\n",
        "  opcion = int(input()) \n",
        "  if opcion == 1:\n",
        "    hor = int(input(\"Horas:\"))\n",
        "    minu = int(input(\"Minutos:\"))\n",
        "    seg = int(input(\"Segundos:\"))\n",
        "    print(\"Corresponde a\", Convertir_A_Segundos(hor, minu, seg), \"segundos.\")\n",
        "  elif opcion == 2:\n",
        "    segund = int(input(\"Segundos:\"))\n",
        "    hor, minu, seg = Covertir_A_HMS(segund)\n",
        "    print(\"Corresponde a\", hor,\":\",minu,\":\",seg)\n",
        "  elif opcion == 3:\n",
        "    break\n",
        "  else:\n",
        "    print(\"Opción incorrecta\")"
      ],
      "metadata": {
        "colab": {
          "base_uri": "https://localhost:8080/"
        },
        "id": "1Nmk9-iS0gCg",
        "outputId": "65aeacb3-a9bf-4735-8084-c557341c6191"
      },
      "execution_count": null,
      "outputs": [
        {
          "name": "stdout",
          "output_type": "stream",
          "text": [
            "1. Convertir a segundos\n",
            "2. Convertir a horas, minutos y segundos\n",
            "3. Salir\n",
            "2\n",
            "Segundos:23\n",
            "Corresponde a 0 : 0 : 23\n",
            "1. Convertir a segundos\n",
            "2. Convertir a horas, minutos y segundos\n",
            "3. Salir\n",
            "3\n"
          ]
        }
      ]
    },
    {
      "cell_type": "markdown",
      "source": [
        "# Ejemplo 5\n",
        "\n",
        "- Función ValidarFecha: Recibe un día, mes y año correspondiente a una fecha y  devuelve si la fecha es correcta o no.\n",
        "Simplemente miramos si el día indicado es mayor que 1 y menor que los días del mes. Si introducimos un mes incorrecto, la función DiasDelMes devuelve 0 por lo tanto la fecha va a ser incorrecta.\n",
        "Parámetros de entrada: día, mes y año\n",
        "-  Dato devuelto: Valor lógico indicando si es correcta (Verdadero) o no (Falso)"
      ],
      "metadata": {
        "id": "8QeHRDNa1C3n"
      }
    },
    {
      "cell_type": "code",
      "source": [
        "#Ejemplo 5"
      ],
      "metadata": {
        "id": "ejA6sUme1bS2"
      },
      "execution_count": 19,
      "outputs": []
    },
    {
      "cell_type": "markdown",
      "metadata": {
        "id": "w7DrerwS1zd_"
      },
      "source": [
        "## ¡A resolver el reto!\n",
        "\n",
        "Vamos a prodecer a crear una lista de diccionarios, esto es, un directorio de estudiantes de SKILLS FOR WOMEN IN TECH que participarán en una edición en línea.\n",
        "\n",
        "Cada estudiante debe tener los siguientes atributos:\n",
        "- Nombre <str>\n",
        "- Edad <int>\n",
        "- Temas <lista>\n",
        "- Menores de edad <bool>\n",
        "\n",
        "Puedes asignar los datos a mano o utilizar funciones aleatorias para llenar los campos."
      ]
    },
    {
      "cell_type": "code",
      "metadata": {
        "id": "SVynPZKD2RAm"
      },
      "source": [
        "# All your code goes here!!!"
      ],
      "execution_count": null,
      "outputs": []
    },
    {
      "cell_type": "markdown",
      "metadata": {
        "id": "efpB7jYb3hQj"
      },
      "source": [
        "--------\n",
        "\n",
        "> Contenido creado por **Jesús López**  2022. <br>\n",
        "> Contacto: [@jalopez_garcia](https://www.instagram.com/jalopez_garcia/) & [@jalopez_garcia](https://twitter.com/jalopez_garcia)"
      ]
    }
  ]
}